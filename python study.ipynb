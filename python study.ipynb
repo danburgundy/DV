{
 "cells": [
  {
   "cell_type": "code",
   "execution_count": 7,
   "metadata": {},
   "outputs": [
    {
     "data": {
      "text/plain": [
       "[1, 9, 25, 81]"
      ]
     },
     "execution_count": 7,
     "metadata": {},
     "output_type": "execute_result"
    }
   ],
   "source": [
    "def square(num): return num ** 2\n",
    "\n",
    "numbers = [1,3,5,9]\n",
    "\n",
    "list(map(square, numbers))\n",
    "\n",
    "# for item in map(square, numbers):\n",
    "#     print(item)\n"
   ]
  },
  {
   "cell_type": "code",
   "execution_count": 8,
   "metadata": {},
   "outputs": [
    {
     "data": {
      "text/plain": [
       "[1, 9, 25, 81]"
      ]
     },
     "execution_count": 8,
     "metadata": {},
     "output_type": "execute_result"
    }
   ],
   "source": [
    "list(map(lambda num: num ** 2, numbers))"
   ]
  },
  {
   "cell_type": "code",
   "execution_count": 9,
   "metadata": {},
   "outputs": [
    {
     "data": {
      "text/plain": [
       "[1, 9, 25, 81]"
      ]
     },
     "execution_count": 9,
     "metadata": {},
     "output_type": "execute_result"
    }
   ],
   "source": [
    "square = lambda num: num ** 2\n",
    "list(map(square, numbers))"
   ]
  },
  {
   "cell_type": "code",
   "execution_count": 11,
   "metadata": {},
   "outputs": [
    {
     "data": {
      "text/plain": [
       "16"
      ]
     },
     "execution_count": 11,
     "metadata": {},
     "output_type": "execute_result"
    }
   ],
   "source": [
    "result2 = square(4)\n",
    "result2"
   ]
  },
  {
   "cell_type": "code",
   "execution_count": 12,
   "metadata": {},
   "outputs": [
    {
     "data": {
      "text/plain": [
       "[8, 10, 4]"
      ]
     },
     "execution_count": 12,
     "metadata": {},
     "output_type": "execute_result"
    }
   ],
   "source": [
    "numbers = [1,3,5,8,10,4]\n",
    "def check_even(num):return num%2 == 0\n",
    "\n",
    "list(filter(check_even, numbers))"
   ]
  },
  {
   "cell_type": "code",
   "execution_count": 13,
   "metadata": {},
   "outputs": [
    {
     "data": {
      "text/plain": [
       "[8, 10, 4]"
      ]
     },
     "execution_count": 13,
     "metadata": {},
     "output_type": "execute_result"
    }
   ],
   "source": [
    "list(filter(lambda num: num%2==0, numbers))"
   ]
  },
  {
   "cell_type": "code",
   "execution_count": 14,
   "metadata": {},
   "outputs": [
    {
     "data": {
      "text/plain": [
       "[8, 10, 4]"
      ]
     },
     "execution_count": 14,
     "metadata": {},
     "output_type": "execute_result"
    }
   ],
   "source": [
    "check_even = lambda num: num%2==0\n",
    "list(filter(check_even, numbers))"
   ]
  },
  {
   "cell_type": "code",
   "execution_count": 18,
   "metadata": {},
   "outputs": [
    {
     "name": "stdout",
     "output_type": "stream",
     "text": [
      "local x\n",
      "global x\n"
     ]
    }
   ],
   "source": [
    "# global scope\n",
    "x = 'global x'\n",
    "\n",
    "def function():\n",
    "    # local scope\n",
    "    x = 'local x'\n",
    "    print(x)\n",
    "    \n",
    "function()\n",
    "print(x)"
   ]
  },
  {
   "cell_type": "code",
   "execution_count": 21,
   "metadata": {},
   "outputs": [
    {
     "name": "stdout",
     "output_type": "stream",
     "text": [
      "Ece\n",
      "Ege\n"
     ]
    }
   ],
   "source": [
    "name = 'Ege'\n",
    "\n",
    "def changeName(new_name):\n",
    "    name = new_name\n",
    "    print(name)\n",
    "    \n",
    "changeName('Ece')\n",
    "print(name)"
   ]
  },
  {
   "cell_type": "code",
   "execution_count": 24,
   "metadata": {},
   "outputs": [
    {
     "name": "stdout",
     "output_type": "stream",
     "text": [
      "Hello Ege\n"
     ]
    }
   ],
   "source": [
    "name = 'global string'\n",
    "\n",
    "def greeting():\n",
    "    name = 'Ege'\n",
    "    \n",
    "    def hello():\n",
    "        # name = 'Ece'\n",
    "        print('Hello '+ name)\n",
    "        \n",
    "    hello()\n",
    "    \n",
    "greeting()"
   ]
  },
  {
   "cell_type": "code",
   "execution_count": 28,
   "metadata": {},
   "outputs": [
    {
     "name": "stdout",
     "output_type": "stream",
     "text": [
      "x : 50\n",
      "changed x to 100\n",
      "50\n"
     ]
    }
   ],
   "source": [
    "x = 50\n",
    "def test(x):\n",
    "    print(f'x : {x}')\n",
    "    \n",
    "    x = 100\n",
    "    print(f'changed x to {x}')\n",
    "    \n",
    "test(x)\n",
    "print(x)"
   ]
  },
  {
   "cell_type": "code",
   "execution_count": 30,
   "metadata": {},
   "outputs": [
    {
     "name": "stdout",
     "output_type": "stream",
     "text": [
      "x : 50\n",
      "changed x to 100\n",
      "100\n"
     ]
    }
   ],
   "source": [
    "x = 50\n",
    "def test():\n",
    "    global x\n",
    "    print(f'x : {x}')\n",
    "    \n",
    "    x = 100\n",
    "    print(f'changed x to {x}')\n",
    "    \n",
    "test()\n",
    "print(x)"
   ]
  },
  {
   "cell_type": "code",
   "execution_count": 30,
   "metadata": {},
   "outputs": [],
   "source": [
    "# ATM app\n",
    "\n",
    "EnesAcc = {\n",
    "    'name' : 'Enes Aydin',\n",
    "    'accNo' : '123123123',\n",
    "    'balance' : 50000,\n",
    "    'addAcc' : 2000\n",
    "}\n",
    "\n",
    "DanAcc = {\n",
    "    'name' : 'Dan Burgundy',\n",
    "    'accNo' : '12312312344',\n",
    "    'balance' : 20000,\n",
    "    'addAcc' : 1000\n",
    "}"
   ]
  },
  {
   "cell_type": "code",
   "execution_count": 31,
   "metadata": {},
   "outputs": [
    {
     "name": "stdout",
     "output_type": "stream",
     "text": [
      "Hello Enes Aydin\n",
      "Paranızı alabilirsiniz.\n",
      "123123123 nolu hesabınızda 0 TL bulunmaktadır. Ek hesap limitiniz ise 2000 TL bulunmaktadır.\n",
      "Hello Enes Aydin\n",
      "Paranizi alabilirsiniz.\n",
      "123123123 nolu hesabınızda 0 TL bulunmaktadır. Ek hesap limitiniz ise 1000 TL bulunmaktadır.\n"
     ]
    }
   ],
   "source": [
    "def paraCek(hesap, miktar):\n",
    "    print(f\"Hello {hesap['name']}\")\n",
    "    \n",
    "    if hesap['balance'] >= miktar:\n",
    "        hesap['balance'] -= miktar\n",
    "        print('Paranızı alabilirsiniz.')\n",
    "        bakiyeSorgula(hesap)\n",
    "    else:\n",
    "        total = hesap['balance'] + hesap['addAcc']\n",
    "        \n",
    "        if (total >= miktar):\n",
    "            ekHesapKullanimi = input('Ek hesap kullanılsın mı? (e/h)')\n",
    "            \n",
    "            if ekHesapKullanimi == 'e':               \n",
    "                ekhesapKullanilacakMiktar = miktar - hesap['balance']\n",
    "                hesap['balance'] = 0\n",
    "                hesap['addAcc'] -= ekhesapKullanilacakMiktar\n",
    "                print('Paranizi alabilirsiniz.')\n",
    "                bakiyeSorgula(hesap)\n",
    "            else:\n",
    "                print(f\"{hesap['accNo']} nolu hesabınızda' {hesap['balance']} bulunmaktadır.\")\n",
    "        else:\n",
    "            print('Üzgünüz bakiye yetersiz.')\n",
    "            \n",
    "def bakiyeSorgula(hesap):\n",
    "    print(f\"{hesap['accNo']} nolu hesabınızda {hesap['balance']} TL bulunmaktadır. Ek hesap limitiniz ise {hesap['addAcc']} TL bulunmaktadır.\")\n",
    "paraCek(EnesAcc, 50000)\n",
    "# bakiyeSorgula(EnesAcc)\n",
    "paraCek(EnesAcc, 1000)\n",
    "# bakiyeSorgula(EnesAcc)"
   ]
  },
  {
   "cell_type": "code",
   "execution_count": null,
   "metadata": {},
   "outputs": [],
   "source": []
  },
  {
   "cell_type": "code",
   "execution_count": null,
   "metadata": {},
   "outputs": [],
   "source": []
  }
 ],
 "metadata": {
  "interpreter": {
   "hash": "ac59ebe37160ed0dfa835113d9b8498d9f09ceb179beaac4002f036b9467c963"
  },
  "kernelspec": {
   "display_name": "Python 3.9.7 64-bit",
   "language": "python",
   "name": "python3"
  },
  "language_info": {
   "codemirror_mode": {
    "name": "ipython",
    "version": 3
   },
   "file_extension": ".py",
   "mimetype": "text/x-python",
   "name": "python",
   "nbconvert_exporter": "python",
   "pygments_lexer": "ipython3",
   "version": "3.9.7"
  },
  "orig_nbformat": 4
 },
 "nbformat": 4,
 "nbformat_minor": 2
}
